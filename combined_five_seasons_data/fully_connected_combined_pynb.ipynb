{
  "nbformat": 4,
  "nbformat_minor": 0,
  "metadata": {
    "jupytext": {
      "split_at_heading": true
    },
    "kernelspec": {
      "display_name": "Python 3",
      "language": "python",
      "name": "python3"
    },
    "colab": {
      "name": "fully_connected_combined.pynb",
      "provenance": [],
      "collapsed_sections": []
    },
    "accelerator": "GPU"
  },
  "cells": [
    {
      "cell_type": "code",
      "metadata": {
        "id": "IhZeQMkOa4AN"
      },
      "source": [
        "#hide\n",
        "#skip\n",
        "! [ -e /content ] && pip install -Uqq fastai  # upgrade fastai on colab"
      ],
      "execution_count": 435,
      "outputs": []
    },
    {
      "cell_type": "code",
      "metadata": {
        "id": "PuH3Wyzra4AU"
      },
      "source": [
        "from fastai.tabular.all import *"
      ],
      "execution_count": 436,
      "outputs": []
    },
    {
      "cell_type": "code",
      "metadata": {
        "id": "bfjlC2e2a4AV"
      },
      "source": [
        "path = \"/content/combined_five_seasons_data.csv\""
      ],
      "execution_count": 437,
      "outputs": []
    },
    {
      "cell_type": "markdown",
      "metadata": {
        "id": "wJYFv0ika4AX"
      },
      "source": [
        "Then we can have a look at how the data is structured:"
      ]
    },
    {
      "cell_type": "code",
      "metadata": {
        "id": "b9s1zwIpa4AX",
        "colab": {
          "base_uri": "https://localhost:8080/",
          "height": 204
        },
        "outputId": "f15e1371-11c2-408f-8d2c-6127d70c211f"
      },
      "source": [
        "df = pd.read_csv(path)\n",
        "df.head()"
      ],
      "execution_count": 438,
      "outputs": [
        {
          "output_type": "execute_result",
          "data": {
            "text/html": [
              "<div>\n",
              "<style scoped>\n",
              "    .dataframe tbody tr th:only-of-type {\n",
              "        vertical-align: middle;\n",
              "    }\n",
              "\n",
              "    .dataframe tbody tr th {\n",
              "        vertical-align: top;\n",
              "    }\n",
              "\n",
              "    .dataframe thead th {\n",
              "        text-align: right;\n",
              "    }\n",
              "</style>\n",
              "<table border=\"1\" class=\"dataframe\">\n",
              "  <thead>\n",
              "    <tr style=\"text-align: right;\">\n",
              "      <th></th>\n",
              "      <th>HomeTeam</th>\n",
              "      <th>AwayTeam</th>\n",
              "      <th>FTHG</th>\n",
              "      <th>FTAG</th>\n",
              "      <th>ScoreDiff</th>\n",
              "      <th>Results</th>\n",
              "      <th>HomeWinStreak</th>\n",
              "      <th>AwayWinStreak</th>\n",
              "      <th>TGSH</th>\n",
              "      <th>TGSA</th>\n",
              "    </tr>\n",
              "  </thead>\n",
              "  <tbody>\n",
              "    <tr>\n",
              "      <th>0</th>\n",
              "      <td>Burnley</td>\n",
              "      <td>Swansea</td>\n",
              "      <td>0</td>\n",
              "      <td>1</td>\n",
              "      <td>-1</td>\n",
              "      <td>Loss</td>\n",
              "      <td>0</td>\n",
              "      <td>0</td>\n",
              "      <td>0</td>\n",
              "      <td>0</td>\n",
              "    </tr>\n",
              "    <tr>\n",
              "      <th>1</th>\n",
              "      <td>Crystal Palace</td>\n",
              "      <td>West Brom</td>\n",
              "      <td>0</td>\n",
              "      <td>1</td>\n",
              "      <td>-1</td>\n",
              "      <td>Loss</td>\n",
              "      <td>0</td>\n",
              "      <td>0</td>\n",
              "      <td>0</td>\n",
              "      <td>0</td>\n",
              "    </tr>\n",
              "    <tr>\n",
              "      <th>2</th>\n",
              "      <td>Everton</td>\n",
              "      <td>Tottenham</td>\n",
              "      <td>1</td>\n",
              "      <td>1</td>\n",
              "      <td>0</td>\n",
              "      <td>Draw</td>\n",
              "      <td>0</td>\n",
              "      <td>0</td>\n",
              "      <td>0</td>\n",
              "      <td>0</td>\n",
              "    </tr>\n",
              "    <tr>\n",
              "      <th>3</th>\n",
              "      <td>Hull</td>\n",
              "      <td>Leicester</td>\n",
              "      <td>2</td>\n",
              "      <td>1</td>\n",
              "      <td>1</td>\n",
              "      <td>Win</td>\n",
              "      <td>1</td>\n",
              "      <td>0</td>\n",
              "      <td>0</td>\n",
              "      <td>0</td>\n",
              "    </tr>\n",
              "    <tr>\n",
              "      <th>4</th>\n",
              "      <td>Man City</td>\n",
              "      <td>Sunderland</td>\n",
              "      <td>2</td>\n",
              "      <td>1</td>\n",
              "      <td>1</td>\n",
              "      <td>Win</td>\n",
              "      <td>2</td>\n",
              "      <td>0</td>\n",
              "      <td>0</td>\n",
              "      <td>0</td>\n",
              "    </tr>\n",
              "  </tbody>\n",
              "</table>\n",
              "</div>"
            ],
            "text/plain": [
              "         HomeTeam    AwayTeam  FTHG  ...  AwayWinStreak  TGSH TGSA\n",
              "0         Burnley     Swansea     0  ...              0     0    0\n",
              "1  Crystal Palace   West Brom     0  ...              0     0    0\n",
              "2         Everton   Tottenham     1  ...              0     0    0\n",
              "3            Hull   Leicester     2  ...              0     0    0\n",
              "4        Man City  Sunderland     2  ...              0     0    0\n",
              "\n",
              "[5 rows x 10 columns]"
            ]
          },
          "metadata": {},
          "execution_count": 438
        }
      ]
    },
    {
      "cell_type": "markdown",
      "metadata": {
        "id": "TJm7s673a4AY"
      },
      "source": [
        "Some of the columns are continuous (like age) and we will treat them as float numbers we can feed our model directly. Others are categorical (like workclass or education) and we will convert them to a unique index that we will feed to embedding layers. We can specify our categorical and continuous column names, as well as the name of the dependent variable in `TabularDataLoaders` factory methods:"
      ]
    },
    {
      "cell_type": "code",
      "metadata": {
        "id": "5NweE8zua4AZ"
      },
      "source": [
        "dls = TabularDataLoaders.from_csv(path, path=path, y_names=\"Results\",\n",
        "    cat_names = ['HomeTeam', 'AwayTeam', 'TGSH', 'TGSA'],\n",
        "    cont_names = ['HomeWinStreak', 'AwayWinStreak'],\n",
        "    procs = [Categorify, FillMissing, Normalize])"
      ],
      "execution_count": 439,
      "outputs": []
    },
    {
      "cell_type": "markdown",
      "metadata": {
        "id": "XIv3nF4Ba4AZ"
      },
      "source": [
        "The last part is the list of pre-processors we apply to our data:\n",
        "\n",
        "- `Categorify` is going to take every categorical variable and make a map from integer to unique categories, then replace the values by the corresponding index.\n",
        "- `FillMissing` will fill the missing values in the continuous variables by the median of existing values (you can choose a specific value if you prefer)\n",
        "- `Normalize` will normalize the continuous variables (subtract the mean and divide by the std)\n",
        "\n"
      ]
    },
    {
      "cell_type": "markdown",
      "metadata": {
        "id": "HscT5GxZa4Aa"
      },
      "source": [
        "To further expose what's going on below the surface, let's rewrite this utilizing `fastai`'s `TabularPandas` class. We will need to make one adjustment, which is defining how we want to split our data. By default the factory method above used a random 80/20 split, so we will do the same:"
      ]
    },
    {
      "cell_type": "code",
      "metadata": {
        "id": "carWvg6ja4Ab"
      },
      "source": [
        "splits = EndSplitter(valid_pct=0.1, valid_last=True)(range_of(df))"
      ],
      "execution_count": 440,
      "outputs": []
    },
    {
      "cell_type": "code",
      "metadata": {
        "id": "eUAkLMkqa4Ab"
      },
      "source": [
        "to = TabularPandas(df, procs=[Categorify, FillMissing,Normalize],\n",
        "                   cat_names = ['HomeTeam', 'AwayTeam', 'TGSH', 'TGSA'],\n",
        "                   cont_names = ['HomeWinStreak', 'AwayWinStreak'],\n",
        "                   y_names='Results',\n",
        "                   splits=splits)"
      ],
      "execution_count": 441,
      "outputs": []
    },
    {
      "cell_type": "markdown",
      "metadata": {
        "id": "H9OJxpYqa4Ac"
      },
      "source": [
        "Once we build our `TabularPandas` object, our data is completely preprocessed as seen below:"
      ]
    },
    {
      "cell_type": "code",
      "metadata": {
        "id": "_xQlQR_Ra4Ac",
        "colab": {
          "base_uri": "https://localhost:8080/",
          "height": 111
        },
        "outputId": "d967cd2e-4fb1-4813-9fe7-54784baab77a"
      },
      "source": [
        "to.xs.iloc[:2]"
      ],
      "execution_count": 442,
      "outputs": [
        {
          "output_type": "execute_result",
          "data": {
            "text/html": [
              "<div>\n",
              "<style scoped>\n",
              "    .dataframe tbody tr th:only-of-type {\n",
              "        vertical-align: middle;\n",
              "    }\n",
              "\n",
              "    .dataframe tbody tr th {\n",
              "        vertical-align: top;\n",
              "    }\n",
              "\n",
              "    .dataframe thead th {\n",
              "        text-align: right;\n",
              "    }\n",
              "</style>\n",
              "<table border=\"1\" class=\"dataframe\">\n",
              "  <thead>\n",
              "    <tr style=\"text-align: right;\">\n",
              "      <th></th>\n",
              "      <th>HomeTeam</th>\n",
              "      <th>AwayTeam</th>\n",
              "      <th>TGSH</th>\n",
              "      <th>TGSA</th>\n",
              "      <th>HomeWinStreak</th>\n",
              "      <th>AwayWinStreak</th>\n",
              "    </tr>\n",
              "  </thead>\n",
              "  <tbody>\n",
              "    <tr>\n",
              "      <th>0</th>\n",
              "      <td>5</td>\n",
              "      <td>25</td>\n",
              "      <td>1</td>\n",
              "      <td>1</td>\n",
              "      <td>-0.669569</td>\n",
              "      <td>0.0</td>\n",
              "    </tr>\n",
              "    <tr>\n",
              "      <th>1</th>\n",
              "      <td>8</td>\n",
              "      <td>28</td>\n",
              "      <td>1</td>\n",
              "      <td>1</td>\n",
              "      <td>-0.669569</td>\n",
              "      <td>0.0</td>\n",
              "    </tr>\n",
              "  </tbody>\n",
              "</table>\n",
              "</div>"
            ],
            "text/plain": [
              "   HomeTeam  AwayTeam  TGSH  TGSA  HomeWinStreak  AwayWinStreak\n",
              "0         5        25     1     1      -0.669569            0.0\n",
              "1         8        28     1     1      -0.669569            0.0"
            ]
          },
          "metadata": {},
          "execution_count": 442
        }
      ]
    },
    {
      "cell_type": "markdown",
      "metadata": {
        "id": "EybsJbgJa4Ad"
      },
      "source": [
        "Now we can build our `DataLoaders` again:"
      ]
    },
    {
      "cell_type": "code",
      "metadata": {
        "id": "6EGXZzY2a4Ad"
      },
      "source": [
        "dls = to.dataloaders(bs=64)"
      ],
      "execution_count": 443,
      "outputs": []
    },
    {
      "cell_type": "markdown",
      "metadata": {
        "id": "QyuTXgYka4Ad"
      },
      "source": [
        "> Later we will explore why using `TabularPandas` to preprocess will be valuable."
      ]
    },
    {
      "cell_type": "markdown",
      "metadata": {
        "id": "CojwzFYLa4Ae"
      },
      "source": [
        "The `show_batch` method works like for every other application:"
      ]
    },
    {
      "cell_type": "code",
      "metadata": {
        "id": "1FiRnjt1a4Ae",
        "colab": {
          "base_uri": "https://localhost:8080/",
          "height": 359
        },
        "outputId": "715cfd4d-0d43-467d-ba23-37cd8546c535"
      },
      "source": [
        "dls.show_batch()"
      ],
      "execution_count": 444,
      "outputs": [
        {
          "output_type": "display_data",
          "data": {
            "text/html": [
              "<table border=\"1\" class=\"dataframe\">\n",
              "  <thead>\n",
              "    <tr style=\"text-align: right;\">\n",
              "      <th></th>\n",
              "      <th>HomeTeam</th>\n",
              "      <th>AwayTeam</th>\n",
              "      <th>TGSH</th>\n",
              "      <th>TGSA</th>\n",
              "      <th>HomeWinStreak</th>\n",
              "      <th>AwayWinStreak</th>\n",
              "      <th>Results</th>\n",
              "    </tr>\n",
              "  </thead>\n",
              "  <tbody>\n",
              "    <tr>\n",
              "      <th>0</th>\n",
              "      <td>West Brom</td>\n",
              "      <td>Swansea</td>\n",
              "      <td>0</td>\n",
              "      <td>0</td>\n",
              "      <td>-3.223856e-08</td>\n",
              "      <td>0.0</td>\n",
              "      <td>Draw</td>\n",
              "    </tr>\n",
              "    <tr>\n",
              "      <th>1</th>\n",
              "      <td>Chelsea</td>\n",
              "      <td>Brighton</td>\n",
              "      <td>0</td>\n",
              "      <td>0</td>\n",
              "      <td>1.000000e+00</td>\n",
              "      <td>0.0</td>\n",
              "      <td>Win</td>\n",
              "    </tr>\n",
              "    <tr>\n",
              "      <th>2</th>\n",
              "      <td>Swansea</td>\n",
              "      <td>Leicester</td>\n",
              "      <td>0</td>\n",
              "      <td>0</td>\n",
              "      <td>-3.223856e-08</td>\n",
              "      <td>0.0</td>\n",
              "      <td>Loss</td>\n",
              "    </tr>\n",
              "    <tr>\n",
              "      <th>3</th>\n",
              "      <td>Crystal Palace</td>\n",
              "      <td>Stoke</td>\n",
              "      <td>0</td>\n",
              "      <td>0</td>\n",
              "      <td>1.000000e+00</td>\n",
              "      <td>0.0</td>\n",
              "      <td>Win</td>\n",
              "    </tr>\n",
              "    <tr>\n",
              "      <th>4</th>\n",
              "      <td>Man United</td>\n",
              "      <td>Tottenham</td>\n",
              "      <td>0</td>\n",
              "      <td>0</td>\n",
              "      <td>-3.223856e-08</td>\n",
              "      <td>0.0</td>\n",
              "      <td>Loss</td>\n",
              "    </tr>\n",
              "    <tr>\n",
              "      <th>5</th>\n",
              "      <td>Newcastle</td>\n",
              "      <td>Everton</td>\n",
              "      <td>0</td>\n",
              "      <td>0</td>\n",
              "      <td>-3.223856e-08</td>\n",
              "      <td>0.0</td>\n",
              "      <td>Loss</td>\n",
              "    </tr>\n",
              "    <tr>\n",
              "      <th>6</th>\n",
              "      <td>Newcastle</td>\n",
              "      <td>Crystal Palace</td>\n",
              "      <td>0</td>\n",
              "      <td>0</td>\n",
              "      <td>-3.223856e-08</td>\n",
              "      <td>0.0</td>\n",
              "      <td>Loss</td>\n",
              "    </tr>\n",
              "    <tr>\n",
              "      <th>7</th>\n",
              "      <td>Newcastle</td>\n",
              "      <td>Brighton</td>\n",
              "      <td>0</td>\n",
              "      <td>0</td>\n",
              "      <td>-3.223856e-08</td>\n",
              "      <td>0.0</td>\n",
              "      <td>Loss</td>\n",
              "    </tr>\n",
              "    <tr>\n",
              "      <th>8</th>\n",
              "      <td>West Ham</td>\n",
              "      <td>Crystal Palace</td>\n",
              "      <td>0</td>\n",
              "      <td>0</td>\n",
              "      <td>-3.223856e-08</td>\n",
              "      <td>0.0</td>\n",
              "      <td>Draw</td>\n",
              "    </tr>\n",
              "    <tr>\n",
              "      <th>9</th>\n",
              "      <td>Huddersfield</td>\n",
              "      <td>Man United</td>\n",
              "      <td>0</td>\n",
              "      <td>0</td>\n",
              "      <td>2.000000e+00</td>\n",
              "      <td>0.0</td>\n",
              "      <td>Win</td>\n",
              "    </tr>\n",
              "  </tbody>\n",
              "</table>"
            ],
            "text/plain": [
              "<IPython.core.display.HTML object>"
            ]
          },
          "metadata": {}
        }
      ]
    },
    {
      "cell_type": "markdown",
      "metadata": {
        "id": "gMtR2PEea4Ae"
      },
      "source": [
        "We can define a model using the `tabular_learner` method. When we define our model, `fastai` will try to infer the loss function based on our `y_names` earlier. \n",
        "\n",
        "**Note**: Sometimes with tabular data, your `y`'s may be encoded (such as 0 and 1). In such a case you should explicitly pass `y_block = CategoryBlock` in your constructor so `fastai` won't presume you are doing regression."
      ]
    },
    {
      "cell_type": "code",
      "metadata": {
        "id": "VuMZKvsQa4Af"
      },
      "source": [
        "learn = tabular_learner(dls, metrics=accuracy)"
      ],
      "execution_count": 445,
      "outputs": []
    },
    {
      "cell_type": "code",
      "metadata": {
        "colab": {
          "base_uri": "https://localhost:8080/",
          "height": 283
        },
        "id": "kyk_29is9nHR",
        "outputId": "7ed90946-2b7a-4396-efee-c7c8cc5b9084"
      },
      "source": [
        "lr = learn.lr_find()"
      ],
      "execution_count": 446,
      "outputs": [
        {
          "output_type": "display_data",
          "data": {
            "text/html": [
              ""
            ],
            "text/plain": [
              "<IPython.core.display.HTML object>"
            ]
          },
          "metadata": {}
        },
        {
          "output_type": "display_data",
          "data": {
            "image/png": "[encoded data removed]",
            "text/plain": [
              "<Figure size 432x288 with 1 Axes>"
            ]
          },
          "metadata": {
            "needs_background": "light"
          }
        }
      ]
    },
    {
      "cell_type": "markdown",
      "metadata": {
        "id": "iHZq7Y8Sa4Af"
      },
      "source": [
        "And we can train that model with the `fit_one_cycle` method (the `fine_tune` method won't be useful here since we don't have a pretrained model)."
      ]
    },
    {
      "cell_type": "code",
      "metadata": {
        "id": "qfYndL58a4Af",
        "colab": {
          "base_uri": "https://localhost:8080/",
          "height": 204
        },
        "outputId": "cc9fa760-ffc2-4948-8197-ea86e8ba9d7b"
      },
      "source": [
        "learn.fit_one_cycle(5, lr_max=slice(lr.valley))"
      ],
      "execution_count": 447,
      "outputs": [
        {
          "output_type": "display_data",
          "data": {
            "text/html": [
              "<table border=\"1\" class=\"dataframe\">\n",
              "  <thead>\n",
              "    <tr style=\"text-align: left;\">\n",
              "      <th>epoch</th>\n",
              "      <th>train_loss</th>\n",
              "      <th>valid_loss</th>\n",
              "      <th>accuracy</th>\n",
              "      <th>time</th>\n",
              "    </tr>\n",
              "  </thead>\n",
              "  <tbody>\n",
              "    <tr>\n",
              "      <td>0</td>\n",
              "      <td>0.759860</td>\n",
              "      <td>0.923695</td>\n",
              "      <td>0.589474</td>\n",
              "      <td>00:00</td>\n",
              "    </tr>\n",
              "    <tr>\n",
              "      <td>1</td>\n",
              "      <td>0.513552</td>\n",
              "      <td>0.514807</td>\n",
              "      <td>0.773684</td>\n",
              "      <td>00:00</td>\n",
              "    </tr>\n",
              "    <tr>\n",
              "      <td>2</td>\n",
              "      <td>0.429545</td>\n",
              "      <td>0.423289</td>\n",
              "      <td>0.747368</td>\n",
              "      <td>00:00</td>\n",
              "    </tr>\n",
              "    <tr>\n",
              "      <td>3</td>\n",
              "      <td>0.385868</td>\n",
              "      <td>0.409811</td>\n",
              "      <td>0.763158</td>\n",
              "      <td>00:00</td>\n",
              "    </tr>\n",
              "    <tr>\n",
              "      <td>4</td>\n",
              "      <td>0.358871</td>\n",
              "      <td>0.412032</td>\n",
              "      <td>0.784211</td>\n",
              "      <td>00:00</td>\n",
              "    </tr>\n",
              "  </tbody>\n",
              "</table>"
            ],
            "text/plain": [
              "<IPython.core.display.HTML object>"
            ]
          },
          "metadata": {}
        }
      ]
    },
    {
      "cell_type": "markdown",
      "metadata": {
        "id": "6tVdgCz9a4Af"
      },
      "source": [
        "We can then have a look at some predictions:"
      ]
    },
    {
      "cell_type": "code",
      "metadata": {
        "id": "VMx5USjUa4Af",
        "colab": {
          "base_uri": "https://localhost:8080/",
          "height": 204
        },
        "outputId": "ffe62345-24f4-45ed-ddc7-eb06c672f041"
      },
      "source": [
        "learn.show_results(max_n=5)"
      ],
      "execution_count": 448,
      "outputs": [
        {
          "output_type": "display_data",
          "data": {
            "text/html": [
              ""
            ],
            "text/plain": [
              "<IPython.core.display.HTML object>"
            ]
          },
          "metadata": {}
        },
        {
          "output_type": "display_data",
          "data": {
            "text/html": [
              "<table border=\"1\" class=\"dataframe\">\n",
              "  <thead>\n",
              "    <tr style=\"text-align: right;\">\n",
              "      <th></th>\n",
              "      <th>HomeTeam</th>\n",
              "      <th>AwayTeam</th>\n",
              "      <th>TGSH</th>\n",
              "      <th>TGSA</th>\n",
              "      <th>HomeWinStreak</th>\n",
              "      <th>AwayWinStreak</th>\n",
              "      <th>Results</th>\n",
              "      <th>Results_pred</th>\n",
              "    </tr>\n",
              "  </thead>\n",
              "  <tbody>\n",
              "    <tr>\n",
              "      <th>0</th>\n",
              "      <td>5.0</td>\n",
              "      <td>4.0</td>\n",
              "      <td>1.0</td>\n",
              "      <td>1.0</td>\n",
              "      <td>-0.669569</td>\n",
              "      <td>0.0</td>\n",
              "      <td>0.0</td>\n",
              "      <td>0.0</td>\n",
              "    </tr>\n",
              "    <tr>\n",
              "      <th>1</th>\n",
              "      <td>28.0</td>\n",
              "      <td>30.0</td>\n",
              "      <td>1.0</td>\n",
              "      <td>1.0</td>\n",
              "      <td>-0.669569</td>\n",
              "      <td>0.0</td>\n",
              "      <td>0.0</td>\n",
              "      <td>1.0</td>\n",
              "    </tr>\n",
              "    <tr>\n",
              "      <th>2</th>\n",
              "      <td>9.0</td>\n",
              "      <td>10.0</td>\n",
              "      <td>1.0</td>\n",
              "      <td>1.0</td>\n",
              "      <td>-0.669569</td>\n",
              "      <td>0.0</td>\n",
              "      <td>1.0</td>\n",
              "      <td>0.0</td>\n",
              "    </tr>\n",
              "    <tr>\n",
              "      <th>3</th>\n",
              "      <td>28.0</td>\n",
              "      <td>15.0</td>\n",
              "      <td>1.0</td>\n",
              "      <td>1.0</td>\n",
              "      <td>-0.669569</td>\n",
              "      <td>0.0</td>\n",
              "      <td>1.0</td>\n",
              "      <td>1.0</td>\n",
              "    </tr>\n",
              "    <tr>\n",
              "      <th>4</th>\n",
              "      <td>16.0</td>\n",
              "      <td>22.0</td>\n",
              "      <td>2.0</td>\n",
              "      <td>1.0</td>\n",
              "      <td>2.471618</td>\n",
              "      <td>0.0</td>\n",
              "      <td>2.0</td>\n",
              "      <td>2.0</td>\n",
              "    </tr>\n",
              "  </tbody>\n",
              "</table>"
            ],
            "text/plain": [
              "<IPython.core.display.HTML object>"
            ]
          },
          "metadata": {}
        }
      ]
    },
    {
      "cell_type": "markdown",
      "metadata": {
        "id": "hfMhye2ta4Ag"
      },
      "source": [
        "Or use the predict method on a row:"
      ]
    },
    {
      "cell_type": "code",
      "metadata": {
        "id": "DUiHGAtza4Ag",
        "colab": {
          "base_uri": "https://localhost:8080/",
          "height": 17
        },
        "outputId": "30915cfc-4a53-4bdc-92cc-a46ddd325149"
      },
      "source": [
        "row, clas, probs = learn.predict(df.iloc[9])"
      ],
      "execution_count": 449,
      "outputs": [
        {
          "output_type": "display_data",
          "data": {
            "text/html": [
              ""
            ],
            "text/plain": [
              "<IPython.core.display.HTML object>"
            ]
          },
          "metadata": {}
        }
      ]
    },
    {
      "cell_type": "code",
      "metadata": {
        "id": "kSBT26gxa4Ag",
        "colab": {
          "base_uri": "https://localhost:8080/",
          "height": 80
        },
        "outputId": "377124da-1e1a-4f8f-8950-95d6cdc474d0"
      },
      "source": [
        "row.show()"
      ],
      "execution_count": 450,
      "outputs": [
        {
          "output_type": "display_data",
          "data": {
            "text/html": [
              "<table border=\"1\" class=\"dataframe\">\n",
              "  <thead>\n",
              "    <tr style=\"text-align: right;\">\n",
              "      <th></th>\n",
              "      <th>HomeTeam</th>\n",
              "      <th>AwayTeam</th>\n",
              "      <th>TGSH</th>\n",
              "      <th>TGSA</th>\n",
              "      <th>HomeWinStreak</th>\n",
              "      <th>AwayWinStreak</th>\n",
              "      <th>Results</th>\n",
              "    </tr>\n",
              "  </thead>\n",
              "  <tbody>\n",
              "    <tr>\n",
              "      <th>0</th>\n",
              "      <td>Chelsea</td>\n",
              "      <td>West Ham</td>\n",
              "      <td>0</td>\n",
              "      <td>0</td>\n",
              "      <td>1.0</td>\n",
              "      <td>0.0</td>\n",
              "      <td>Win</td>\n",
              "    </tr>\n",
              "  </tbody>\n",
              "</table>"
            ],
            "text/plain": [
              "<IPython.core.display.HTML object>"
            ]
          },
          "metadata": {}
        }
      ]
    },
    {
      "cell_type": "code",
      "metadata": {
        "id": "qFb-IlRFa4Ah",
        "colab": {
          "base_uri": "https://localhost:8080/"
        },
        "outputId": "a35e49c8-0d9c-4ddc-e077-4f823b383af9"
      },
      "source": [
        "clas, probs"
      ],
      "execution_count": 451,
      "outputs": [
        {
          "output_type": "execute_result",
          "data": {
            "text/plain": [
              "(tensor(2), tensor([0.0037, 0.0028, 0.9935]))"
            ]
          },
          "metadata": {},
          "execution_count": 451
        }
      ]
    },
    {
      "cell_type": "code",
      "metadata": {
        "id": "ySCAniw7X9fJ"
      },
      "source": [
        ""
      ],
      "execution_count": 451,
      "outputs": []
    }
  ]
}