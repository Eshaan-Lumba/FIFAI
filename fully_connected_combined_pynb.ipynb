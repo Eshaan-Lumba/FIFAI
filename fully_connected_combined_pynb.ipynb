{
  "nbformat": 4,
  "nbformat_minor": 0,
  "metadata": {
    "jupytext": {
      "split_at_heading": true
    },
    "kernelspec": {
      "display_name": "Python 3",
      "language": "python",
      "name": "python3"
    },
    "colab": {
      "name": "fully_connected_combined.pynb",
      "provenance": [],
      "collapsed_sections": []
    },
    "accelerator": "GPU"
  },
  "cells": [
    {
      "cell_type": "code",
      "metadata": {
        "id": "IhZeQMkOa4AN"
      },
      "source": [
        "#hide\n",
        "#skip\n",
        "! [ -e /content ] && pip install -Uqq fastai  # upgrade fastai on colab"
      ],
      "execution_count": 108,
      "outputs": []
    },
    {
      "cell_type": "code",
      "metadata": {
        "id": "PuH3Wyzra4AU"
      },
      "source": [
        "from fastai.tabular.all import *"
      ],
      "execution_count": 109,
      "outputs": []
    },
    {
      "cell_type": "code",
      "metadata": {
        "id": "bfjlC2e2a4AV"
      },
      "source": [
        " path = \"/content/combined_eight_seasons_data_withOdds.csv\"\n",
        "# path = \"/content/combined_eight_seasons_data.csv\"\n",
        "# path = \"/content/combined_five_seasons_data.csv\""
      ],
      "execution_count": 110,
      "outputs": []
    },
    {
      "cell_type": "markdown",
      "metadata": {
        "id": "wJYFv0ika4AX"
      },
      "source": [
        "Then we can have a look at how the data is structured:"
      ]
    },
    {
      "cell_type": "code",
      "metadata": {
        "id": "b9s1zwIpa4AX",
        "colab": {
          "base_uri": "https://localhost:8080/",
          "height": 275
        },
        "outputId": "8af0743e-9ff8-4055-eb0d-746e82700315"
      },
      "source": [
        "df = pd.read_csv(path)\n",
        "df.head()"
      ],
      "execution_count": 111,
      "outputs": [
        {
          "output_type": "execute_result",
          "data": {
            "text/html": [
              "<div>\n",
              "<style scoped>\n",
              "    .dataframe tbody tr th:only-of-type {\n",
              "        vertical-align: middle;\n",
              "    }\n",
              "\n",
              "    .dataframe tbody tr th {\n",
              "        vertical-align: top;\n",
              "    }\n",
              "\n",
              "    .dataframe thead th {\n",
              "        text-align: right;\n",
              "    }\n",
              "</style>\n",
              "<table border=\"1\" class=\"dataframe\">\n",
              "  <thead>\n",
              "    <tr style=\"text-align: right;\">\n",
              "      <th></th>\n",
              "      <th>HomeTeam</th>\n",
              "      <th>AwayTeam</th>\n",
              "      <th>FTHG</th>\n",
              "      <th>FTAG</th>\n",
              "      <th>ScoreDiff</th>\n",
              "      <th>HomeWinStreak</th>\n",
              "      <th>AwayWinStreak</th>\n",
              "      <th>TGSH</th>\n",
              "      <th>TGSA</th>\n",
              "      <th>Results</th>\n",
              "      <th>Referee</th>\n",
              "      <th>B365H</th>\n",
              "      <th>B365D</th>\n",
              "      <th>B365A</th>\n",
              "      <th>BWH</th>\n",
              "      <th>BWD</th>\n",
              "      <th>BWA</th>\n",
              "    </tr>\n",
              "  </thead>\n",
              "  <tbody>\n",
              "    <tr>\n",
              "      <th>0</th>\n",
              "      <td>Arsenal</td>\n",
              "      <td>Crystal Palace</td>\n",
              "      <td>2</td>\n",
              "      <td>1</td>\n",
              "      <td>1</td>\n",
              "      <td>1</td>\n",
              "      <td>0</td>\n",
              "      <td>0</td>\n",
              "      <td>0</td>\n",
              "      <td>Win</td>\n",
              "      <td>J Moss</td>\n",
              "      <td>1.25</td>\n",
              "      <td>6.5</td>\n",
              "      <td>15.0</td>\n",
              "      <td>1.25</td>\n",
              "      <td>5.50</td>\n",
              "      <td>12.00</td>\n",
              "    </tr>\n",
              "    <tr>\n",
              "      <th>1</th>\n",
              "      <td>Leicester</td>\n",
              "      <td>Everton</td>\n",
              "      <td>2</td>\n",
              "      <td>2</td>\n",
              "      <td>0</td>\n",
              "      <td>1</td>\n",
              "      <td>0</td>\n",
              "      <td>0</td>\n",
              "      <td>0</td>\n",
              "      <td>Draw</td>\n",
              "      <td>M Jones</td>\n",
              "      <td>3.20</td>\n",
              "      <td>3.4</td>\n",
              "      <td>2.4</td>\n",
              "      <td>2.90</td>\n",
              "      <td>3.20</td>\n",
              "      <td>2.40</td>\n",
              "    </tr>\n",
              "    <tr>\n",
              "      <th>2</th>\n",
              "      <td>Man United</td>\n",
              "      <td>Swansea</td>\n",
              "      <td>1</td>\n",
              "      <td>2</td>\n",
              "      <td>-1</td>\n",
              "      <td>0</td>\n",
              "      <td>1</td>\n",
              "      <td>0</td>\n",
              "      <td>0</td>\n",
              "      <td>Loss</td>\n",
              "      <td>M Dean</td>\n",
              "      <td>1.36</td>\n",
              "      <td>5.0</td>\n",
              "      <td>11.0</td>\n",
              "      <td>1.40</td>\n",
              "      <td>4.75</td>\n",
              "      <td>9.00</td>\n",
              "    </tr>\n",
              "    <tr>\n",
              "      <th>3</th>\n",
              "      <td>QPR</td>\n",
              "      <td>Hull</td>\n",
              "      <td>0</td>\n",
              "      <td>1</td>\n",
              "      <td>-1</td>\n",
              "      <td>0</td>\n",
              "      <td>2</td>\n",
              "      <td>0</td>\n",
              "      <td>0</td>\n",
              "      <td>Loss</td>\n",
              "      <td>C Pawson</td>\n",
              "      <td>2.50</td>\n",
              "      <td>3.3</td>\n",
              "      <td>3.1</td>\n",
              "      <td>2.50</td>\n",
              "      <td>3.10</td>\n",
              "      <td>2.85</td>\n",
              "    </tr>\n",
              "    <tr>\n",
              "      <th>4</th>\n",
              "      <td>Stoke</td>\n",
              "      <td>Aston Villa</td>\n",
              "      <td>0</td>\n",
              "      <td>1</td>\n",
              "      <td>-1</td>\n",
              "      <td>0</td>\n",
              "      <td>3</td>\n",
              "      <td>0</td>\n",
              "      <td>1</td>\n",
              "      <td>Loss</td>\n",
              "      <td>A Taylor</td>\n",
              "      <td>1.95</td>\n",
              "      <td>3.5</td>\n",
              "      <td>4.5</td>\n",
              "      <td>1.95</td>\n",
              "      <td>3.30</td>\n",
              "      <td>3.90</td>\n",
              "    </tr>\n",
              "  </tbody>\n",
              "</table>\n",
              "</div>"
            ],
            "text/plain": [
              "     HomeTeam        AwayTeam  FTHG  FTAG  ...  B365A   BWH   BWD    BWA\n",
              "0     Arsenal  Crystal Palace     2     1  ...   15.0  1.25  5.50  12.00\n",
              "1   Leicester         Everton     2     2  ...    2.4  2.90  3.20   2.40\n",
              "2  Man United         Swansea     1     2  ...   11.0  1.40  4.75   9.00\n",
              "3         QPR            Hull     0     1  ...    3.1  2.50  3.10   2.85\n",
              "4       Stoke     Aston Villa     0     1  ...    4.5  1.95  3.30   3.90\n",
              "\n",
              "[5 rows x 17 columns]"
            ]
          },
          "metadata": {},
          "execution_count": 111
        }
      ]
    },
    {
      "cell_type": "code",
      "metadata": {
        "id": "5NweE8zua4AZ"
      },
      "source": [
        "# without Odds\n",
        "dls = TabularDataLoaders.from_csv(path, path=path, y_names=\"Results\",\n",
        "    cat_names = ['HomeTeam', 'AwayTeam', 'TGSH', 'TGSA', 'Referee'],\n",
        "    cont_names = ['HomeWinStreak', 'AwayWinStreak'],\n",
        "    procs = [Categorify, FillMissing, Normalize])\n",
        "\n",
        "# # with Odds\n",
        "# dls = TabularDataLoaders.from_csv(path, path=path, y_names=\"Results\",\n",
        "#     cat_names = ['HomeTeam', 'AwayTeam', 'TGSH', 'TGSA'],\n",
        "#     cont_names = ['HomeWinStreak', 'AwayWinStreak', 'B365H', 'B365D', 'B365A', 'BWH', 'BWD', 'BWA' ],\n",
        "#     procs = [Categorify, FillMissing, Normalize])\n",
        "\n",
        "# # with Only Odds\n",
        "# dls = TabularDataLoaders.from_csv(path, path=path, y_names=\"Results\",\n",
        "#     cat_names = ['HomeTeam', 'AwayTeam'],\n",
        "#     cont_names = ['B365H', 'B365D', 'B365A', 'BWH', 'BWD', 'BWA' ],\n",
        "#     procs = [Categorify, FillMissing, Normalize])\n",
        "\n",
        "# # with Only Odds from B365\n",
        "# dls = TabularDataLoaders.from_csv(path, path=path, y_names=\"Results\",\n",
        "#     cat_names = ['HomeTeam', 'AwayTeam'],\n",
        "#     cont_names = ['B365H', 'B365D', 'B365A'],\n",
        "#     procs = [Categorify, FillMissing, Normalize])\n",
        "\n",
        "# # with Only Odds from BWA\n",
        "# dls = TabularDataLoaders.from_csv(path, path=path, y_names=\"Results\",\n",
        "#     cat_names = ['HomeTeam', 'AwayTeam'],\n",
        "#     cont_names = ['BWH', 'BWD', 'BWA'],\n",
        "#     procs = [Categorify, FillMissing, Normalize])"
      ],
      "execution_count": 112,
      "outputs": []
    },
    {
      "cell_type": "markdown",
      "metadata": {
        "id": "XIv3nF4Ba4AZ"
      },
      "source": [
        "The last part is the list of pre-processors we apply to our data:\n",
        "\n",
        "- `Categorify` is going to take every categorical variable and make a map from integer to unique categories, then replace the values by the corresponding index.\n",
        "- `FillMissing` will fill the missing values in the continuous variables by the median of existing values (you can choose a specific value if you prefer)\n",
        "- `Normalize` will normalize the continuous variables (subtract the mean and divide by the std)\n",
        "\n"
      ]
    },
    {
      "cell_type": "code",
      "metadata": {
        "id": "carWvg6ja4Ab"
      },
      "source": [
        "splits = EndSplitter(valid_pct=0.1, valid_last=True)(range_of(df))"
      ],
      "execution_count": 113,
      "outputs": []
    },
    {
      "cell_type": "code",
      "metadata": {
        "id": "eUAkLMkqa4Ab"
      },
      "source": [
        "# without Odds\n",
        "to = TabularPandas(df, procs=[Categorify, FillMissing,Normalize],\n",
        "                   cat_names = ['HomeTeam', 'AwayTeam', 'TGSH', 'TGSA'],\n",
        "                   cont_names = ['HomeWinStreak', 'AwayWinStreak'],\n",
        "                   y_names='Results',\n",
        "                   splits=splits)\n",
        "\n",
        "# # with Odds\n",
        "# to = TabularPandas(df, procs=[Categorify, FillMissing,Normalize],\n",
        "#                    cat_names = ['HomeTeam', 'AwayTeam', 'TGSH', 'TGSA'],\n",
        "#                    cont_names = ['HomeWinStreak', 'AwayWinStreak', 'B365H', 'B365D', 'B365A', 'BWH', 'BWD', 'BWA' ],\n",
        "#                    y_names='Results',\n",
        "#                    splits=splits)\n",
        "\n",
        "# # with ONLY Odds\n",
        "# to = TabularPandas(df, procs=[Categorify, FillMissing,Normalize],\n",
        "#                    cat_names = ['HomeTeam', 'AwayTeam'],\n",
        "#                    cont_names = ['B365H', 'B365D', 'B365A', 'BWH', 'BWD', 'BWA'],\n",
        "#                    y_names='Results',\n",
        "#                    splits=splits)\n",
        "\n",
        "# # with ONLY Odds from B365\n",
        "# to = TabularPandas(df, procs=[Categorify, FillMissing,Normalize],\n",
        "#                    cat_names = ['HomeTeam', 'AwayTeam'],\n",
        "#                    cont_names = ['B365H', 'B365D', 'B365A'],\n",
        "#                    y_names='Results',\n",
        "#                    splits=splits)\n",
        "\n",
        "# # with ONLY Odds from BW\n",
        "# to = TabularPandas(df, procs=[Categorify, FillMissing,Normalize],\n",
        "#                    cat_names = ['HomeTeam', 'AwayTeam'],\n",
        "#                    cont_names = ['BWH', 'BWD', 'BWA'],\n",
        "#                    y_names='Results',\n",
        "#                    splits=splits)"
      ],
      "execution_count": 114,
      "outputs": []
    },
    {
      "cell_type": "markdown",
      "metadata": {
        "id": "H9OJxpYqa4Ac"
      },
      "source": [
        "Once we build our `TabularPandas` object, our data is completely preprocessed as seen below:"
      ]
    },
    {
      "cell_type": "code",
      "metadata": {
        "id": "_xQlQR_Ra4Ac",
        "colab": {
          "base_uri": "https://localhost:8080/",
          "height": 111
        },
        "outputId": "149aeb55-d2b5-4a11-87a2-e129c172b19c"
      },
      "source": [
        "to.xs.iloc[:2]"
      ],
      "execution_count": 115,
      "outputs": [
        {
          "output_type": "execute_result",
          "data": {
            "text/html": [
              "<div>\n",
              "<style scoped>\n",
              "    .dataframe tbody tr th:only-of-type {\n",
              "        vertical-align: middle;\n",
              "    }\n",
              "\n",
              "    .dataframe tbody tr th {\n",
              "        vertical-align: top;\n",
              "    }\n",
              "\n",
              "    .dataframe thead th {\n",
              "        text-align: right;\n",
              "    }\n",
              "</style>\n",
              "<table border=\"1\" class=\"dataframe\">\n",
              "  <thead>\n",
              "    <tr style=\"text-align: right;\">\n",
              "      <th></th>\n",
              "      <th>HomeTeam</th>\n",
              "      <th>AwayTeam</th>\n",
              "      <th>TGSH</th>\n",
              "      <th>TGSA</th>\n",
              "      <th>HomeWinStreak</th>\n",
              "      <th>AwayWinStreak</th>\n",
              "    </tr>\n",
              "  </thead>\n",
              "  <tbody>\n",
              "    <tr>\n",
              "      <th>0</th>\n",
              "      <td>1</td>\n",
              "      <td>9</td>\n",
              "      <td>1</td>\n",
              "      <td>1</td>\n",
              "      <td>-0.247341</td>\n",
              "      <td>-0.629619</td>\n",
              "    </tr>\n",
              "    <tr>\n",
              "      <th>1</th>\n",
              "      <td>15</td>\n",
              "      <td>10</td>\n",
              "      <td>1</td>\n",
              "      <td>1</td>\n",
              "      <td>-0.247341</td>\n",
              "      <td>-0.629619</td>\n",
              "    </tr>\n",
              "  </tbody>\n",
              "</table>\n",
              "</div>"
            ],
            "text/plain": [
              "   HomeTeam  AwayTeam  TGSH  TGSA  HomeWinStreak  AwayWinStreak\n",
              "0         1         9     1     1      -0.247341      -0.629619\n",
              "1        15        10     1     1      -0.247341      -0.629619"
            ]
          },
          "metadata": {},
          "execution_count": 115
        }
      ]
    },
    {
      "cell_type": "markdown",
      "metadata": {
        "id": "EybsJbgJa4Ad"
      },
      "source": [
        "Now we can build our `DataLoaders` again:"
      ]
    },
    {
      "cell_type": "code",
      "metadata": {
        "id": "6EGXZzY2a4Ad"
      },
      "source": [
        "dls = to.dataloaders(bs=64)"
      ],
      "execution_count": 116,
      "outputs": []
    },
    {
      "cell_type": "markdown",
      "metadata": {
        "id": "QyuTXgYka4Ad"
      },
      "source": [
        "> Later we will explore why using `TabularPandas` to preprocess will be valuable."
      ]
    },
    {
      "cell_type": "markdown",
      "metadata": {
        "id": "CojwzFYLa4Ae"
      },
      "source": [
        "The `show_batch` method works like for every other application:"
      ]
    },
    {
      "cell_type": "code",
      "metadata": {
        "id": "1FiRnjt1a4Ae",
        "colab": {
          "base_uri": "https://localhost:8080/",
          "height": 359
        },
        "outputId": "99196a72-c0ba-49dc-8033-5f1f368b4c9e"
      },
      "source": [
        "dls.show_batch()"
      ],
      "execution_count": 117,
      "outputs": [
        {
          "output_type": "display_data",
          "data": {
            "text/html": [
              "<table border=\"1\" class=\"dataframe\">\n",
              "  <thead>\n",
              "    <tr style=\"text-align: right;\">\n",
              "      <th></th>\n",
              "      <th>HomeTeam</th>\n",
              "      <th>AwayTeam</th>\n",
              "      <th>TGSH</th>\n",
              "      <th>TGSA</th>\n",
              "      <th>HomeWinStreak</th>\n",
              "      <th>AwayWinStreak</th>\n",
              "      <th>Results</th>\n",
              "    </tr>\n",
              "  </thead>\n",
              "  <tbody>\n",
              "    <tr>\n",
              "      <th>0</th>\n",
              "      <td>Man United</td>\n",
              "      <td>Burnley</td>\n",
              "      <td>0</td>\n",
              "      <td>0</td>\n",
              "      <td>2.000000e+00</td>\n",
              "      <td>9.613172e-09</td>\n",
              "      <td>Draw</td>\n",
              "    </tr>\n",
              "    <tr>\n",
              "      <th>1</th>\n",
              "      <td>West Ham</td>\n",
              "      <td>Norwich</td>\n",
              "      <td>1</td>\n",
              "      <td>0</td>\n",
              "      <td>4.000000e+00</td>\n",
              "      <td>9.613172e-09</td>\n",
              "      <td>Win</td>\n",
              "    </tr>\n",
              "    <tr>\n",
              "      <th>2</th>\n",
              "      <td>Newcastle</td>\n",
              "      <td>Tottenham</td>\n",
              "      <td>0</td>\n",
              "      <td>1</td>\n",
              "      <td>-2.287897e-08</td>\n",
              "      <td>3.000000e+00</td>\n",
              "      <td>Loss</td>\n",
              "    </tr>\n",
              "    <tr>\n",
              "      <th>3</th>\n",
              "      <td>Southampton</td>\n",
              "      <td>Brighton</td>\n",
              "      <td>0</td>\n",
              "      <td>0</td>\n",
              "      <td>-2.287897e-08</td>\n",
              "      <td>1.000000e+00</td>\n",
              "      <td>Draw</td>\n",
              "    </tr>\n",
              "    <tr>\n",
              "      <th>4</th>\n",
              "      <td>QPR</td>\n",
              "      <td>Stoke</td>\n",
              "      <td>0</td>\n",
              "      <td>0</td>\n",
              "      <td>-2.287897e-08</td>\n",
              "      <td>1.000000e+00</td>\n",
              "      <td>Draw</td>\n",
              "    </tr>\n",
              "    <tr>\n",
              "      <th>5</th>\n",
              "      <td>Middlesbrough</td>\n",
              "      <td>Crystal Palace</td>\n",
              "      <td>0</td>\n",
              "      <td>0</td>\n",
              "      <td>-2.287897e-08</td>\n",
              "      <td>2.000000e+00</td>\n",
              "      <td>Loss</td>\n",
              "    </tr>\n",
              "    <tr>\n",
              "      <th>6</th>\n",
              "      <td>Stoke</td>\n",
              "      <td>Everton</td>\n",
              "      <td>0</td>\n",
              "      <td>0</td>\n",
              "      <td>1.000000e+00</td>\n",
              "      <td>9.613172e-09</td>\n",
              "      <td>Win</td>\n",
              "    </tr>\n",
              "    <tr>\n",
              "      <th>7</th>\n",
              "      <td>Stoke</td>\n",
              "      <td>Liverpool</td>\n",
              "      <td>1</td>\n",
              "      <td>0</td>\n",
              "      <td>4.000000e+00</td>\n",
              "      <td>9.613172e-09</td>\n",
              "      <td>Win</td>\n",
              "    </tr>\n",
              "    <tr>\n",
              "      <th>8</th>\n",
              "      <td>Southampton</td>\n",
              "      <td>Norwich</td>\n",
              "      <td>0</td>\n",
              "      <td>0</td>\n",
              "      <td>1.000000e+00</td>\n",
              "      <td>9.613172e-09</td>\n",
              "      <td>Win</td>\n",
              "    </tr>\n",
              "    <tr>\n",
              "      <th>9</th>\n",
              "      <td>Huddersfield</td>\n",
              "      <td>Liverpool</td>\n",
              "      <td>0</td>\n",
              "      <td>0</td>\n",
              "      <td>-2.287897e-08</td>\n",
              "      <td>1.000000e+00</td>\n",
              "      <td>Loss</td>\n",
              "    </tr>\n",
              "  </tbody>\n",
              "</table>"
            ],
            "text/plain": [
              "<IPython.core.display.HTML object>"
            ]
          },
          "metadata": {}
        }
      ]
    },
    {
      "cell_type": "markdown",
      "metadata": {
        "id": "gMtR2PEea4Ae"
      },
      "source": [
        "We can define a model using the `tabular_learner` method. When we define our model, `fastai` will try to infer the loss function based on our `y_names` earlier. \n",
        "\n",
        "**Note**: Sometimes with tabular data, your `y`'s may be encoded (such as 0 and 1). In such a case you should explicitly pass `y_block = CategoryBlock` in your constructor so `fastai` won't presume you are doing regression."
      ]
    },
    {
      "cell_type": "code",
      "metadata": {
        "id": "VuMZKvsQa4Af"
      },
      "source": [
        "learn = tabular_learner(dls, metrics=accuracy)"
      ],
      "execution_count": 118,
      "outputs": []
    },
    {
      "cell_type": "code",
      "metadata": {
        "colab": {
          "base_uri": "https://localhost:8080/",
          "height": 286
        },
        "id": "kyk_29is9nHR",
        "outputId": "5375af88-4652-4c93-a1a4-a46b38f5c971"
      },
      "source": [
        "lr = learn.lr_find()"
      ],
      "execution_count": 119,
      "outputs": [
        {
          "output_type": "display_data",
          "data": {
            "text/html": [
              ""
            ],
            "text/plain": [
              "<IPython.core.display.HTML object>"
            ]
          },
          "metadata": {}
        },
        {
          "output_type": "display_data",
          "data": {
            "image/png": "[encoded data removed]",
            "text/plain": [
              "<Figure size 432x288 with 1 Axes>"
            ]
          },
          "metadata": {
            "needs_background": "light"
          }
        }
      ]
    },
    {
      "cell_type": "markdown",
      "metadata": {
        "id": "iHZq7Y8Sa4Af"
      },
      "source": [
        "And we can train that model with the `fit_one_cycle` method (the `fine_tune` method won't be useful here since we don't have a pretrained model)."
      ]
    },
    {
      "cell_type": "code",
      "metadata": {
        "id": "qfYndL58a4Af",
        "colab": {
          "base_uri": "https://localhost:8080/",
          "height": 359
        },
        "outputId": "8bfd4898-bae7-4d20-a1a9-aba3883561f4"
      },
      "source": [
        "learn.fit_one_cycle(10, lr_max=slice(lr.valley))"
      ],
      "execution_count": 120,
      "outputs": [
        {
          "output_type": "display_data",
          "data": {
            "text/html": [
              "<table border=\"1\" class=\"dataframe\">\n",
              "  <thead>\n",
              "    <tr style=\"text-align: left;\">\n",
              "      <th>epoch</th>\n",
              "      <th>train_loss</th>\n",
              "      <th>valid_loss</th>\n",
              "      <th>accuracy</th>\n",
              "      <th>time</th>\n",
              "    </tr>\n",
              "  </thead>\n",
              "  <tbody>\n",
              "    <tr>\n",
              "      <td>0</td>\n",
              "      <td>0.846235</td>\n",
              "      <td>0.727708</td>\n",
              "      <td>0.769784</td>\n",
              "      <td>00:00</td>\n",
              "    </tr>\n",
              "    <tr>\n",
              "      <td>1</td>\n",
              "      <td>0.685543</td>\n",
              "      <td>0.577700</td>\n",
              "      <td>0.769784</td>\n",
              "      <td>00:00</td>\n",
              "    </tr>\n",
              "    <tr>\n",
              "      <td>2</td>\n",
              "      <td>0.627804</td>\n",
              "      <td>0.569431</td>\n",
              "      <td>0.769784</td>\n",
              "      <td>00:00</td>\n",
              "    </tr>\n",
              "    <tr>\n",
              "      <td>3</td>\n",
              "      <td>0.590235</td>\n",
              "      <td>0.548885</td>\n",
              "      <td>0.762590</td>\n",
              "      <td>00:00</td>\n",
              "    </tr>\n",
              "    <tr>\n",
              "      <td>4</td>\n",
              "      <td>0.562169</td>\n",
              "      <td>0.553559</td>\n",
              "      <td>0.751799</td>\n",
              "      <td>00:00</td>\n",
              "    </tr>\n",
              "    <tr>\n",
              "      <td>5</td>\n",
              "      <td>0.546316</td>\n",
              "      <td>0.533199</td>\n",
              "      <td>0.766187</td>\n",
              "      <td>00:00</td>\n",
              "    </tr>\n",
              "    <tr>\n",
              "      <td>6</td>\n",
              "      <td>0.534788</td>\n",
              "      <td>0.528824</td>\n",
              "      <td>0.762590</td>\n",
              "      <td>00:00</td>\n",
              "    </tr>\n",
              "    <tr>\n",
              "      <td>7</td>\n",
              "      <td>0.522484</td>\n",
              "      <td>0.521051</td>\n",
              "      <td>0.766187</td>\n",
              "      <td>00:00</td>\n",
              "    </tr>\n",
              "    <tr>\n",
              "      <td>8</td>\n",
              "      <td>0.516042</td>\n",
              "      <td>0.521396</td>\n",
              "      <td>0.766187</td>\n",
              "      <td>00:00</td>\n",
              "    </tr>\n",
              "    <tr>\n",
              "      <td>9</td>\n",
              "      <td>0.508000</td>\n",
              "      <td>0.521211</td>\n",
              "      <td>0.762590</td>\n",
              "      <td>00:00</td>\n",
              "    </tr>\n",
              "  </tbody>\n",
              "</table>"
            ],
            "text/plain": [
              "<IPython.core.display.HTML object>"
            ]
          },
          "metadata": {}
        }
      ]
    },
    {
      "cell_type": "markdown",
      "metadata": {
        "id": "6tVdgCz9a4Af"
      },
      "source": [
        "We can then have a look at some predictions:"
      ]
    },
    {
      "cell_type": "code",
      "metadata": {
        "id": "VMx5USjUa4Af",
        "colab": {
          "base_uri": "https://localhost:8080/",
          "height": 204
        },
        "outputId": "1a88f863-af53-4c9d-8681-b72314e069b7"
      },
      "source": [
        "learn.show_results(max_n=5)"
      ],
      "execution_count": 121,
      "outputs": [
        {
          "output_type": "display_data",
          "data": {
            "text/html": [
              ""
            ],
            "text/plain": [
              "<IPython.core.display.HTML object>"
            ]
          },
          "metadata": {}
        },
        {
          "output_type": "display_data",
          "data": {
            "text/html": [
              "<table border=\"1\" class=\"dataframe\">\n",
              "  <thead>\n",
              "    <tr style=\"text-align: right;\">\n",
              "      <th></th>\n",
              "      <th>HomeTeam</th>\n",
              "      <th>AwayTeam</th>\n",
              "      <th>TGSH</th>\n",
              "      <th>TGSA</th>\n",
              "      <th>HomeWinStreak</th>\n",
              "      <th>AwayWinStreak</th>\n",
              "      <th>Results</th>\n",
              "      <th>Results_pred</th>\n",
              "    </tr>\n",
              "  </thead>\n",
              "  <tbody>\n",
              "    <tr>\n",
              "      <th>0</th>\n",
              "      <td>5.0</td>\n",
              "      <td>14.0</td>\n",
              "      <td>1.0</td>\n",
              "      <td>1.0</td>\n",
              "      <td>-0.247341</td>\n",
              "      <td>-0.629619</td>\n",
              "      <td>0.0</td>\n",
              "      <td>2.0</td>\n",
              "    </tr>\n",
              "    <tr>\n",
              "      <th>1</th>\n",
              "      <td>9.0</td>\n",
              "      <td>6.0</td>\n",
              "      <td>1.0</td>\n",
              "      <td>1.0</td>\n",
              "      <td>-0.788346</td>\n",
              "      <td>0.312558</td>\n",
              "      <td>1.0</td>\n",
              "      <td>1.0</td>\n",
              "    </tr>\n",
              "    <tr>\n",
              "      <th>2</th>\n",
              "      <td>13.0</td>\n",
              "      <td>26.0</td>\n",
              "      <td>1.0</td>\n",
              "      <td>1.0</td>\n",
              "      <td>-0.788346</td>\n",
              "      <td>0.312558</td>\n",
              "      <td>1.0</td>\n",
              "      <td>1.0</td>\n",
              "    </tr>\n",
              "    <tr>\n",
              "      <th>3</th>\n",
              "      <td>3.0</td>\n",
              "      <td>8.0</td>\n",
              "      <td>1.0</td>\n",
              "      <td>1.0</td>\n",
              "      <td>-0.788346</td>\n",
              "      <td>1.254736</td>\n",
              "      <td>1.0</td>\n",
              "      <td>1.0</td>\n",
              "    </tr>\n",
              "    <tr>\n",
              "      <th>4</th>\n",
              "      <td>16.0</td>\n",
              "      <td>19.0</td>\n",
              "      <td>1.0</td>\n",
              "      <td>1.0</td>\n",
              "      <td>-0.247341</td>\n",
              "      <td>-0.629619</td>\n",
              "      <td>2.0</td>\n",
              "      <td>0.0</td>\n",
              "    </tr>\n",
              "  </tbody>\n",
              "</table>"
            ],
            "text/plain": [
              "<IPython.core.display.HTML object>"
            ]
          },
          "metadata": {}
        }
      ]
    },
    {
      "cell_type": "markdown",
      "metadata": {
        "id": "hfMhye2ta4Ag"
      },
      "source": [
        "Or use the predict method on a row:"
      ]
    },
    {
      "cell_type": "code",
      "metadata": {
        "id": "DUiHGAtza4Ag",
        "colab": {
          "base_uri": "https://localhost:8080/",
          "height": 17
        },
        "outputId": "9f61776d-512e-4f32-d2bb-66d1e9b41b1b"
      },
      "source": [
        "row, clas, probs = learn.predict(df.iloc[9])"
      ],
      "execution_count": 122,
      "outputs": [
        {
          "output_type": "display_data",
          "data": {
            "text/html": [
              ""
            ],
            "text/plain": [
              "<IPython.core.display.HTML object>"
            ]
          },
          "metadata": {}
        }
      ]
    },
    {
      "cell_type": "code",
      "metadata": {
        "id": "kSBT26gxa4Ag",
        "colab": {
          "base_uri": "https://localhost:8080/",
          "height": 80
        },
        "outputId": "e853b271-82a4-42d6-aa1a-fd1f0ffb7fb2"
      },
      "source": [
        "row.show()"
      ],
      "execution_count": 123,
      "outputs": [
        {
          "output_type": "display_data",
          "data": {
            "text/html": [
              "<table border=\"1\" class=\"dataframe\">\n",
              "  <thead>\n",
              "    <tr style=\"text-align: right;\">\n",
              "      <th></th>\n",
              "      <th>HomeTeam</th>\n",
              "      <th>AwayTeam</th>\n",
              "      <th>TGSH</th>\n",
              "      <th>TGSA</th>\n",
              "      <th>HomeWinStreak</th>\n",
              "      <th>AwayWinStreak</th>\n",
              "      <th>Results</th>\n",
              "    </tr>\n",
              "  </thead>\n",
              "  <tbody>\n",
              "    <tr>\n",
              "      <th>0</th>\n",
              "      <td>Burnley</td>\n",
              "      <td>Chelsea</td>\n",
              "      <td>0</td>\n",
              "      <td>0</td>\n",
              "      <td>-2.287897e-08</td>\n",
              "      <td>2.0</td>\n",
              "      <td>Loss</td>\n",
              "    </tr>\n",
              "  </tbody>\n",
              "</table>"
            ],
            "text/plain": [
              "<IPython.core.display.HTML object>"
            ]
          },
          "metadata": {}
        }
      ]
    },
    {
      "cell_type": "code",
      "metadata": {
        "id": "qFb-IlRFa4Ah",
        "colab": {
          "base_uri": "https://localhost:8080/"
        },
        "outputId": "33ac94a1-ecc8-4295-b306-72fb010aa413"
      },
      "source": [
        "clas, probs"
      ],
      "execution_count": 124,
      "outputs": [
        {
          "output_type": "execute_result",
          "data": {
            "text/plain": [
              "(tensor(1), tensor([0.0723, 0.9238, 0.0039]))"
            ]
          },
          "metadata": {},
          "execution_count": 124
        }
      ]
    },
    {
      "cell_type": "code",
      "metadata": {
        "id": "ySCAniw7X9fJ"
      },
      "source": [
        "# dfTest = pd.read_csv(\"/content/Test.csv\")\n",
        "# dfTest"
      ],
      "execution_count": 125,
      "outputs": []
    },
    {
      "cell_type": "code",
      "metadata": {
        "id": "rEoGtblkvG6S"
      },
      "source": [
        "# row, clas, probs = learn.predict(dfTest.iloc[8])"
      ],
      "execution_count": 126,
      "outputs": []
    },
    {
      "cell_type": "code",
      "metadata": {
        "id": "kXfwLEALvKZw"
      },
      "source": [
        "# clas, probs"
      ],
      "execution_count": 127,
      "outputs": []
    },
    {
      "cell_type": "code",
      "metadata": {
        "id": "NcGgo6xhvNPr"
      },
      "source": [
        "# test_df = dfTest.copy()\n",
        "# test_df.drop(['Results'], axis=1, inplace=True)\n",
        "# dl = learn.dls.test_dl(test_df)"
      ],
      "execution_count": 128,
      "outputs": []
    },
    {
      "cell_type": "code",
      "metadata": {
        "id": "tUIbgYB_w8Se"
      },
      "source": [
        "# learn.get_preds(dl=dl)"
      ],
      "execution_count": 129,
      "outputs": []
    },
    {
      "cell_type": "code",
      "metadata": {
        "id": "PP9v6uS8x70H"
      },
      "source": [
        ""
      ],
      "execution_count": 129,
      "outputs": []
    }
  ]
}