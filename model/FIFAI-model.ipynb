{
 "cells": [
  {
   "cell_type": "code",
   "execution_count": 1,
   "id": "29debbb5",
   "metadata": {},
   "outputs": [],
   "source": [
    "from argparse import ArgumentParser\n",
    "from fastprogress.fastprogress import master_bar, progress_bar\n",
    "import torch"
   ]
  },
  {
   "cell_type": "code",
   "execution_count": null,
   "id": "0587cb6a",
   "metadata": {},
   "outputs": [],
   "source": [
    "def train_one_epoch(dataloader, model, criterion, optimizer, device, mb):\n",
    "\n",
    "    # Put the model into training mode\n",
    "    model.train()\n",
    "\n",
    "    # Loop over the data using the progress_bar utility\n",
    "    for _, (X, Y) in progress_bar(DataLoaderProgress(dataloader), parent=mb):\n",
    "        X, Y = X.to(device), Y.to(device)\n",
    "\n",
    "        # Compute model output and then loss\n",
    "        output = model(X)\n",
    "        loss = criterion(output, Y)\n",
    "\n",
    "        # - zero-out gradients\n",
    "        optimizer.zero_grad()\n",
    "        # - compute new gradients\n",
    "        loss.backward()\n",
    "        # - update paramters\n",
    "        optimizer.step()"
   ]
  },
  {
   "cell_type": "code",
   "execution_count": null,
   "id": "59925061",
   "metadata": {},
   "outputs": [],
   "source": [
    "def validate(dataloader, model, criterion, device, epoch, num_epochs, mb):\n",
    "\n",
    "    # Put the model into validation/evaluation mode\n",
    "    model.eval()\n",
    "\n",
    "    N = len(dataloader.dataset)\n",
    "    num_batches = len(dataloader)\n",
    "\n",
    "    loss, num_correct = 0, 0\n",
    "\n",
    "    # Tell pytorch to stop updating gradients when executing the following\n",
    "    with torch.no_grad():\n",
    "\n",
    "        for X, Y in dataloader:\n",
    "            X, Y = X.to(device), Y.to(device)\n",
    "\n",
    "            # Compute the model output\n",
    "            output = model(X)\n",
    "\n",
    "            # - compute loss\n",
    "            loss += criterion(output, Y).item()\n",
    "            # - compute the number of correctly classified examples\n",
    "            num_correct += (output.argmax(1) == Y).type(torch.float).sum().item()\n",
    "\n",
    "        loss /= num_batches\n",
    "        accuracy = num_correct / N\n",
    "\n",
    "    message = \"Initial\" if epoch == 0 else f\"Epoch {epoch:>2}/{num_epochs}:\"\n",
    "    message += f\" accuracy={100*accuracy:5.2f}%\"\n",
    "    message += f\" and loss={loss:.3f}\"\n",
    "    mb.write(message)"
   ]
  },
  {
   "cell_type": "code",
   "execution_count": null,
   "id": "6765cacf",
   "metadata": {},
   "outputs": [],
   "source": [
    "def train(model, criterion, optimizer, train_loader, valid_loader, device, num_epochs):\n",
    "\n",
    "    mb = master_bar(range(num_epochs))\n",
    "\n",
    "    validate(valid_loader, model, criterion, device, 0, num_epochs, mb)\n",
    "\n",
    "    for epoch in mb:\n",
    "        train_one_epoch(train_loader, model, criterion, optimizer, device, mb)\n",
    "        validate(valid_loader, model, criterion, device, epoch + 1, num_epochs, mb)"
   ]
  },
  {
   "cell_type": "code",
   "execution_count": null,
   "id": "36192046",
   "metadata": {},
   "outputs": [],
   "source": [
    "def main():\n",
    "\n",
    "    aparser = ArgumentParser(\"FIFAI--Train a neural network to predict EPL scorelines.\")\n",
    "    aparser.add_argument(\"epl_data\", type=str, help=\"Path to store/find the EPL games dataset\")\n",
    "    aparser.add_argument(\"--num_epochs\", type=int, default=10)\n",
    "    aparser.add_argument(\"--batch_size\", type=int, default=128)\n",
    "    aparser.add_argument(\"--learning_rate\", type=float, default=0.01)\n",
    "    aparser.add_argument(\"--momentum\", type=float, default=0.9)\n",
    "    aparser.add_argument(\"--gpu\", action=\"store_true\")\n",
    "\n",
    "    args = aparser.parse_args()\n",
    "\n",
    "    # Use GPU if requested and available\n",
    "    device = \"cuda\" if args.gpu and torch.cuda.is_available() else \"cpu\"\n",
    "\n",
    "    # Get data loaders\n",
    "    # train_loader, valid_loader = get_epl_data_loaders(args.epl_data, args.batch_size, 0)\n",
    "    \n",
    "    # Your model can be as complex or simple as you'd like. It must work\n",
    "    # with the other parts of this script.\n",
    "    \n",
    "    # model = torch.nn.Sequential(torch.nn.Flatten(), torch.nn.Linear(in_features=?, out_features=10),)\n",
    "\n",
    "    # TODO:\n",
    "    # - create a CrossEntropyLoss criterion\n",
    "    # - create an optimizer of your choice\n",
    "    criterion = torch.nn.CrossEntropyLoss()\n",
    "    optimizer = torch.optim.SGD(model.parameters(), lr=args.learning_rate, momentum=args.momentum)\n",
    "\n",
    "    train(model, criterion, optimizer, train_loader, valid_loader, device, args.num_epochs)"
   ]
  }
 ],
 "metadata": {
  "kernelspec": {
   "display_name": "Python 3 (ipykernel)",
   "language": "python",
   "name": "python3"
  },
  "language_info": {
   "codemirror_mode": {
    "name": "ipython",
    "version": 3
   },
   "file_extension": ".py",
   "mimetype": "text/x-python",
   "name": "python",
   "nbconvert_exporter": "python",
   "pygments_lexer": "ipython3",
   "version": "3.8.5"
  }
 },
 "nbformat": 4,
 "nbformat_minor": 5
}
