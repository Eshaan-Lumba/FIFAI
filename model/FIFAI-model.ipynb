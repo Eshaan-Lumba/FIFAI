{
 "cells": [
  {
   "cell_type": "code",
   "execution_count": 1,
   "id": "34c069c6",
   "metadata": {},
   "outputs": [],
   "source": [
    "from argparse import ArgumentParser\n",
    "from fastprogress.fastprogress import master_bar, progress_bar\n",
    "import torch"
   ]
  },
  {
   "cell_type": "code",
   "execution_count": null,
   "id": "83e2b90d",
   "metadata": {},
   "outputs": [],
   "source": []
  },
  {
   "cell_type": "code",
   "execution_count": null,
   "id": "26366942",
   "metadata": {},
   "outputs": [],
   "source": []
  },
  {
   "cell_type": "code",
   "execution_count": null,
   "id": "37668c84",
   "metadata": {},
   "outputs": [],
   "source": [
    "def main():\n",
    "\n",
    "    aparser = ArgumentParser(\"FIFAI--Train a neural network to predict EPL scorelines.\")\n",
    "    aparser.add_argument(\"epl_data\", type=str, help=\"Path to store/find the EPL games dataset\")\n",
    "    aparser.add_argument(\"--num_epochs\", type=int, default=10)\n",
    "    aparser.add_argument(\"--batch_size\", type=int, default=128)\n",
    "    aparser.add_argument(\"--learning_rate\", type=float, default=0.01)\n",
    "    aparser.add_argument(\"--gpu\", action=\"store_true\")\n",
    "\n",
    "    args = aparser.parse_args()\n",
    "\n",
    "    # Use GPU if requested and available\n",
    "    device = \"cuda\" if args.gpu and torch.cuda.is_available() else \"cpu\"\n",
    "\n",
    "    # Get data loaders\n",
    "    train_loader, valid_loader = get_mnist_data_loaders(args.mnist, args.batch_size, 0)\n",
    "    \n",
    "    # TODO: create a new model\n",
    "    # Your model can be as complex or simple as you'd like. It must work\n",
    "    # with the other parts of this script.\n",
    "    \n",
    "    model = torch.nn.Sequential(torch.nn.Flatten(), torch.nn.Linear(in_features=784, out_features=10),)\n",
    "\n",
    "    # TODO:\n",
    "    # - create a CrossEntropyLoss criterion\n",
    "    # - create an optimizer of your choice\n",
    "    criterion = torch.nn.CrossEntropyLoss()\n",
    "    optimizer = torch.optim.SGD(model.parameters(), lr=0.001, momentum=0.9)\n",
    "\n",
    "    train(model, criterion, optimizer, train_loader, valid_loader, device, args.num_epochs)"
   ]
  }
 ],
 "metadata": {
  "kernelspec": {
   "display_name": "Python 3 (ipykernel)",
   "language": "python",
   "name": "python3"
  },
  "language_info": {
   "codemirror_mode": {
    "name": "ipython",
    "version": 3
   },
   "file_extension": ".py",
   "mimetype": "text/x-python",
   "name": "python",
   "nbconvert_exporter": "python",
   "pygments_lexer": "ipython3",
   "version": "3.8.5"
  }
 },
 "nbformat": 4,
 "nbformat_minor": 5
}
